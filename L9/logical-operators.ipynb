{
 "cells": [
  {
   "cell_type": "markdown",
   "id": "75396c34",
   "metadata": {},
   "source": [
    "# Logical Operators <hr style=\"border:2.5px solid #B57EDC\"></hr>"
   ]
  },
  {
   "cell_type": "markdown",
   "id": "a5e65de1",
   "metadata": {},
   "source": [
    "Data Analyst: Jade Solomon D. Melarin <br>\n",
    "Departmend: Electrical Engineering"
   ]
  },
  {
   "cell_type": "markdown",
   "id": "bd2ffdde",
   "metadata": {},
   "source": [
    "# Logical AND"
   ]
  },
  {
   "cell_type": "code",
   "execution_count": 7,
   "id": "30e986f4",
   "metadata": {},
   "outputs": [
    {
     "name": "stdout",
     "output_type": "stream",
     "text": [
      "both are true\n"
     ]
    }
   ],
   "source": [
    "# a AND b must be true\n",
    "a = True\n",
    "b = True\n",
    "if a and b:\n",
    "    print (\"both are true\")\n",
    "elif not(a) and not (b):\n",
    "    print(\"both are false\")\n",
    "\n",
    "else: \n",
    "    print (\"atleast one is false\")"
   ]
  },
  {
   "cell_type": "code",
   "execution_count": 33,
   "id": "babec36c",
   "metadata": {},
   "outputs": [
    {
     "name": "stdout",
     "output_type": "stream",
     "text": [
      "50 is out of range\n"
     ]
    }
   ],
   "source": [
    "# check if a is within range of 1 to 30\n",
    "a = 50\n",
    "\n",
    "if (a > 0) and (a <= 10):\n",
    "    print (str(a) + \" is within the range of 1 to 10\")\n",
    "elif (a > 10) and (a <= 20):\n",
    "    print (str(a) + \" is within the range of 11 to 20\")\n",
    "elif (a > 20) and (a <= 30):\n",
    "    print (str(a) + \" is within the range of 21 to 30\")\n",
    "else:\n",
    "    print(str(a) +\" is out of range\")\n"
   ]
  },
  {
   "cell_type": "markdown",
   "id": "dd97f720",
   "metadata": {},
   "source": [
    "# Logical OR"
   ]
  },
  {
   "cell_type": "code",
   "execution_count": 36,
   "id": "948315d3",
   "metadata": {},
   "outputs": [
    {
     "name": "stdout",
     "output_type": "stream",
     "text": [
      "at least one is true\n"
     ]
    }
   ],
   "source": [
    "# either a or b is True\n",
    "a = False\n",
    "b = True\n",
    "\n",
    "if a or b:\n",
    "    print (\"at least one is true\")\n",
    "else:\n",
    "    print(\"both are false\")"
   ]
  },
  {
   "cell_type": "code",
   "execution_count": 47,
   "id": "85c981aa",
   "metadata": {},
   "outputs": [
    {
     "name": "stdout",
     "output_type": "stream",
     "text": [
      "Bring an umbrella or stay indoors\n"
     ]
    }
   ],
   "source": [
    "# Go outside or stay indoors\n",
    "weather = \"rainy\"\n",
    "\n",
    "if (weather == \"rainy\") or (weather == \"stormy\"):\n",
    "    print(\"Bring an umbrella or stay indoors\")\n",
    "elif(weather == 'sunny') or (weather == 'clear'):\n",
    "    print(\"It's a great day to go outside\")\n",
    "else:\n",
    "    print(\"The weather is unpredictable today\")\n",
    "\n"
   ]
  },
  {
   "cell_type": "markdown",
   "id": "42e45b0c",
   "metadata": {},
   "source": [
    "# Logical NOT"
   ]
  },
  {
   "cell_type": "code",
   "execution_count": 49,
   "id": "4975576a",
   "metadata": {},
   "outputs": [
    {
     "data": {
      "text/plain": [
       "True"
      ]
     },
     "execution_count": 49,
     "metadata": {},
     "output_type": "execute_result"
    }
   ],
   "source": [
    "# negates the logical state\n",
    "a = False\n",
    "not a "
   ]
  },
  {
   "cell_type": "code",
   "execution_count": 57,
   "id": "f0e56695",
   "metadata": {},
   "outputs": [
    {
     "name": "stdout",
     "output_type": "stream",
     "text": [
      "88 is even\n"
     ]
    }
   ],
   "source": [
    "# odd or even number\n",
    "a = 88\n",
    "if (a%2 == 0):\n",
    "    print(str(a) + \" is even\")\n",
    "else:\n",
    "    print(str(a) +\" is odd\")"
   ]
  },
  {
   "cell_type": "code",
   "execution_count": 56,
   "id": "d7ec511e",
   "metadata": {},
   "outputs": [
    {
     "name": "stdout",
     "output_type": "stream",
     "text": [
      "88 is odd\n"
     ]
    }
   ],
   "source": [
    "# odd or even number\n",
    "a = 88\n",
    "if not(a%2 == 0):\n",
    "    print(str(a) + \" is even\")\n",
    "else:\n",
    "    print(str(a) +\" is odd\")\n"
   ]
  }
 ],
 "metadata": {
  "kernelspec": {
   "display_name": "Python 3",
   "language": "python",
   "name": "python3"
  },
  "language_info": {
   "codemirror_mode": {
    "name": "ipython",
    "version": 3
   },
   "file_extension": ".py",
   "mimetype": "text/x-python",
   "name": "python",
   "nbconvert_exporter": "python",
   "pygments_lexer": "ipython3",
   "version": "3.13.2"
  }
 },
 "nbformat": 4,
 "nbformat_minor": 5
}
