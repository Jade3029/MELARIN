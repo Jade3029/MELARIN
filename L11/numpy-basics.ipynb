{
 "cells": [
  {
   "cell_type": "markdown",
   "id": "43ea62d3",
   "metadata": {},
   "source": [
    "# Numpy Basics <hr style=\"border:2.5px solid #B57EDC\"></hr>"
   ]
  },
  {
   "cell_type": "markdown",
   "id": "cf1842e3",
   "metadata": {},
   "source": [
    "Data Analyst: Jade Solomon D. Melarin <br>\n",
    "Department: Electrical Engineering"
   ]
  },
  {
   "cell_type": "code",
   "execution_count": 10,
   "id": "25009734",
   "metadata": {},
   "outputs": [],
   "source": [
    "# imports and packages\n",
    "import numpy as np\n",
    "from scipy import stats"
   ]
  },
  {
   "cell_type": "markdown",
   "id": "5fa66cd1",
   "metadata": {},
   "source": [
    "# 1D Array"
   ]
  },
  {
   "cell_type": "code",
   "execution_count": 25,
   "id": "092a7f92",
   "metadata": {},
   "outputs": [
    {
     "data": {
      "text/plain": [
       "array([1, 2, 3])"
      ]
     },
     "execution_count": 25,
     "metadata": {},
     "output_type": "execute_result"
    }
   ],
   "source": [
    "array_a = np.array([1,2,3])\n",
    "array_a"
   ]
  },
  {
   "cell_type": "markdown",
   "id": "efd8924a",
   "metadata": {},
   "source": [
    "# 2D Array"
   ]
  },
  {
   "cell_type": "code",
   "execution_count": 34,
   "id": "654b3aa9",
   "metadata": {},
   "outputs": [
    {
     "data": {
      "text/plain": [
       "array([[1, 2, 3],\n",
       "       [4, 5, 6]])"
      ]
     },
     "execution_count": 34,
     "metadata": {},
     "output_type": "execute_result"
    }
   ],
   "source": [
    "my_array = np.array([\n",
    "    [1,2,3],[4,5,6]\n",
    "    ])\n",
    "my_array"
   ]
  },
  {
   "cell_type": "code",
   "execution_count": 39,
   "id": "60803f25",
   "metadata": {},
   "outputs": [
    {
     "data": {
      "text/plain": [
       "array([[1, 4],\n",
       "       [2, 5],\n",
       "       [3, 6]])"
      ]
     },
     "execution_count": 39,
     "metadata": {},
     "output_type": "execute_result"
    }
   ],
   "source": [
    "my_array . T "
   ]
  },
  {
   "cell_type": "code",
   "execution_count": 37,
   "id": "1ffea768",
   "metadata": {},
   "outputs": [
    {
     "data": {
      "text/plain": [
       "array([5, 7, 9])"
      ]
     },
     "execution_count": 37,
     "metadata": {},
     "output_type": "execute_result"
    }
   ],
   "source": [
    "np.sum(my_array,axis=0)"
   ]
  },
  {
   "cell_type": "code",
   "execution_count": 40,
   "id": "3f5fe087",
   "metadata": {},
   "outputs": [
    {
     "data": {
      "text/plain": [
       "array([ 6, 15])"
      ]
     },
     "execution_count": 40,
     "metadata": {},
     "output_type": "execute_result"
    }
   ],
   "source": [
    "#by column\n",
    "np.sum(my_array,axis=1)"
   ]
  },
  {
   "cell_type": "markdown",
   "id": "ba9ba7f0",
   "metadata": {},
   "source": [
    "# Measures of central tendency"
   ]
  },
  {
   "cell_type": "code",
   "execution_count": 3,
   "id": "d3b51740",
   "metadata": {},
   "outputs": [
    {
     "data": {
      "text/plain": [
       "array([120,  60,  85, 150, 200])"
      ]
     },
     "execution_count": 3,
     "metadata": {},
     "output_type": "execute_result"
    }
   ],
   "source": [
    "fruits = np.array([120,60,85,150,200])\n",
    "fruits"
   ]
  },
  {
   "cell_type": "code",
   "execution_count": 7,
   "id": "677d0920",
   "metadata": {},
   "outputs": [
    {
     "data": {
      "text/plain": [
       "np.float64(123.0)"
      ]
     },
     "execution_count": 7,
     "metadata": {},
     "output_type": "execute_result"
    }
   ],
   "source": [
    "fruits_mean = np.mean(fruits)\n",
    "fruits_mean"
   ]
  },
  {
   "cell_type": "code",
   "execution_count": 8,
   "id": "d74f8521",
   "metadata": {},
   "outputs": [
    {
     "data": {
      "text/plain": [
       "np.float64(120.0)"
      ]
     },
     "execution_count": 8,
     "metadata": {},
     "output_type": "execute_result"
    }
   ],
   "source": [
    "median_fruits = np.median(fruits)\n",
    "median_fruits"
   ]
  },
  {
   "cell_type": "code",
   "execution_count": 11,
   "id": "f42d3ce1",
   "metadata": {},
   "outputs": [
    {
     "data": {
      "text/plain": [
       "ModeResult(mode=np.int64(60), count=np.int64(1))"
      ]
     },
     "execution_count": 11,
     "metadata": {},
     "output_type": "execute_result"
    }
   ],
   "source": [
    "mode_fruits = stats.mode(fruits)\n",
    "mode_fruits"
   ]
  },
  {
   "cell_type": "markdown",
   "id": "6f5c1eca",
   "metadata": {},
   "source": [
    "# Execise\n",
    "# Jaguar vs Panther"
   ]
  },
  {
   "cell_type": "markdown",
   "id": "1da24978",
   "metadata": {},
   "source": [
    "# Jaguar"
   ]
  },
  {
   "cell_type": "code",
   "execution_count": 12,
   "id": "04b69b99",
   "metadata": {},
   "outputs": [],
   "source": [
    "jaguar = np.array([10.6,9.1,9.3,9.8,10.5,10.4,9.5,11,10.4,3,9.8])"
   ]
  },
  {
   "cell_type": "code",
   "execution_count": 16,
   "id": "9004f2bf",
   "metadata": {},
   "outputs": [
    {
     "data": {
      "text/plain": [
       "np.float64(9.399999999999999)"
      ]
     },
     "execution_count": 16,
     "metadata": {},
     "output_type": "execute_result"
    }
   ],
   "source": [
    "jaguar_mean = np.mean(jaguar)\n",
    "jaguar_mean"
   ]
  },
  {
   "cell_type": "code",
   "execution_count": 18,
   "id": "281ebb7b",
   "metadata": {},
   "outputs": [
    {
     "data": {
      "text/plain": [
       "np.float64(9.8)"
      ]
     },
     "execution_count": 18,
     "metadata": {},
     "output_type": "execute_result"
    }
   ],
   "source": [
    "jaguar_median = np.median(jaguar)\n",
    "jaguar_median"
   ]
  },
  {
   "cell_type": "code",
   "execution_count": 19,
   "id": "37327320",
   "metadata": {},
   "outputs": [
    {
     "data": {
      "text/plain": [
       "ModeResult(mode=np.float64(9.8), count=np.int64(2))"
      ]
     },
     "execution_count": 19,
     "metadata": {},
     "output_type": "execute_result"
    }
   ],
   "source": [
    "jaguar_mode = stats.mode(jaguar)\n",
    "jaguar_mode"
   ]
  },
  {
   "cell_type": "code",
   "execution_count": 42,
   "id": "f786d000",
   "metadata": {},
   "outputs": [
    {
     "data": {
      "text/plain": [
       "np.float64(2.101947149236112)"
      ]
     },
     "execution_count": 42,
     "metadata": {},
     "output_type": "execute_result"
    }
   ],
   "source": [
    "# population std\n",
    "np.std(jaguar)"
   ]
  },
  {
   "cell_type": "code",
   "execution_count": 43,
   "id": "bb4c3653",
   "metadata": {},
   "outputs": [
    {
     "data": {
      "text/plain": [
       "np.float64(2.2045407685048604)"
      ]
     },
     "execution_count": 43,
     "metadata": {},
     "output_type": "execute_result"
    }
   ],
   "source": [
    "# sample std\n",
    "np.std(jaguar, ddof=1)"
   ]
  },
  {
   "cell_type": "code",
   "execution_count": 61,
   "id": "4bc3829a",
   "metadata": {},
   "outputs": [
    {
     "data": {
      "text/plain": [
       "np.float64(8.0)"
      ]
     },
     "execution_count": 61,
     "metadata": {},
     "output_type": "execute_result"
    }
   ],
   "source": [
    "max_jaguar = np.max(jaguar)\n",
    "min_jaguar = np.min(jaguar)\n",
    "\n",
    "range_jaguar = max_jaguar - min_jaguar\n",
    "range_jaguar"
   ]
  },
  {
   "cell_type": "code",
   "execution_count": 64,
   "id": "1fe14e86",
   "metadata": {},
   "outputs": [
    {
     "data": {
      "text/plain": [
       "np.float64(9.4)"
      ]
     },
     "execution_count": 64,
     "metadata": {},
     "output_type": "execute_result"
    }
   ],
   "source": [
    "q1_jaguar = np.percentile(jaguar,25)\n",
    "q1_jaguar\n"
   ]
  },
  {
   "cell_type": "code",
   "execution_count": 57,
   "id": "2614e04e",
   "metadata": {},
   "outputs": [
    {
     "data": {
      "text/plain": [
       "np.float64(9.8)"
      ]
     },
     "execution_count": 57,
     "metadata": {},
     "output_type": "execute_result"
    }
   ],
   "source": [
    "q2_jaguar = np.percentile(jaguar,50)\n",
    "q2_jaguar"
   ]
  },
  {
   "cell_type": "code",
   "execution_count": 58,
   "id": "777d0640",
   "metadata": {},
   "outputs": [
    {
     "data": {
      "text/plain": [
       "np.float64(10.45)"
      ]
     },
     "execution_count": 58,
     "metadata": {},
     "output_type": "execute_result"
    }
   ],
   "source": [
    "q3_jaguar = np.percentile(jaguar,75)\n",
    "q3_jaguar"
   ]
  },
  {
   "cell_type": "code",
   "execution_count": 59,
   "id": "cca9d06d",
   "metadata": {},
   "outputs": [
    {
     "data": {
      "text/plain": [
       "np.float64(1.049999999999999)"
      ]
     },
     "execution_count": 59,
     "metadata": {},
     "output_type": "execute_result"
    }
   ],
   "source": [
    "IQR = q3_jaguar - q1_jaguar\n",
    "IQR"
   ]
  },
  {
   "cell_type": "markdown",
   "id": "a6d87796",
   "metadata": {},
   "source": [
    "# panther"
   ]
  },
  {
   "cell_type": "code",
   "execution_count": 24,
   "id": "11349cb3",
   "metadata": {},
   "outputs": [],
   "source": [
    "panther = np.array([10.1,11,9.1,20,9.2,10.8,9.9,9.2,9.1,9.1])"
   ]
  },
  {
   "cell_type": "code",
   "execution_count": 20,
   "id": "3284eeaa",
   "metadata": {},
   "outputs": [
    {
     "data": {
      "text/plain": [
       "np.float64(10.75)"
      ]
     },
     "execution_count": 20,
     "metadata": {},
     "output_type": "execute_result"
    }
   ],
   "source": [
    "panther_mean = np.mean(panther)\n",
    "panther_mean"
   ]
  },
  {
   "cell_type": "code",
   "execution_count": 21,
   "id": "c709218b",
   "metadata": {},
   "outputs": [
    {
     "data": {
      "text/plain": [
       "np.float64(9.55)"
      ]
     },
     "execution_count": 21,
     "metadata": {},
     "output_type": "execute_result"
    }
   ],
   "source": [
    "panther_median = np.median(panther)\n",
    "panther_median"
   ]
  },
  {
   "cell_type": "code",
   "execution_count": 22,
   "id": "46be35a0",
   "metadata": {},
   "outputs": [
    {
     "data": {
      "text/plain": [
       "ModeResult(mode=np.float64(9.1), count=np.int64(3))"
      ]
     },
     "execution_count": 22,
     "metadata": {},
     "output_type": "execute_result"
    }
   ],
   "source": [
    "panther_mode = stats.mode(panther)\n",
    "panther_mode"
   ]
  },
  {
   "cell_type": "code",
   "execution_count": 44,
   "id": "8f0afc85",
   "metadata": {},
   "outputs": [
    {
     "data": {
      "text/plain": [
       "np.float64(3.1582431825304393)"
      ]
     },
     "execution_count": 44,
     "metadata": {},
     "output_type": "execute_result"
    }
   ],
   "source": [
    "# population std\n",
    "np.std(panther)"
   ]
  },
  {
   "cell_type": "code",
   "execution_count": 45,
   "id": "ad42342a",
   "metadata": {},
   "outputs": [
    {
     "data": {
      "text/plain": [
       "np.float64(3.3290806204983645)"
      ]
     },
     "execution_count": 45,
     "metadata": {},
     "output_type": "execute_result"
    }
   ],
   "source": [
    "# sample std\n",
    "np.std(panther, ddof=1)"
   ]
  },
  {
   "cell_type": "code",
   "execution_count": 63,
   "id": "1fa14266",
   "metadata": {},
   "outputs": [
    {
     "data": {
      "text/plain": [
       "np.float64(10.9)"
      ]
     },
     "execution_count": 63,
     "metadata": {},
     "output_type": "execute_result"
    }
   ],
   "source": [
    "max_panther = np.max(panther)\n",
    "min_panther = np.min(panther)\n",
    "\n",
    "range_panther = max_panther - min_panther\n",
    "range_panther"
   ]
  },
  {
   "cell_type": "code",
   "execution_count": 65,
   "id": "31c724cb",
   "metadata": {},
   "outputs": [
    {
     "data": {
      "text/plain": [
       "np.float64(9.125)"
      ]
     },
     "execution_count": 65,
     "metadata": {},
     "output_type": "execute_result"
    }
   ],
   "source": [
    "q1_panther = np.percentile(panther,25)\n",
    "q1_panther"
   ]
  },
  {
   "cell_type": "code",
   "execution_count": 68,
   "id": "3bb2f7de",
   "metadata": {},
   "outputs": [
    {
     "data": {
      "text/plain": [
       "np.float64(9.55)"
      ]
     },
     "execution_count": 68,
     "metadata": {},
     "output_type": "execute_result"
    }
   ],
   "source": [
    "q2_panther = np.percentile(panther,50)\n",
    "q2_panther"
   ]
  },
  {
   "cell_type": "code",
   "execution_count": 69,
   "id": "bf816203",
   "metadata": {},
   "outputs": [
    {
     "data": {
      "text/plain": [
       "np.float64(10.625)"
      ]
     },
     "execution_count": 69,
     "metadata": {},
     "output_type": "execute_result"
    }
   ],
   "source": [
    "q3_panther = np.percentile(panther,75)\n",
    "q3_panther"
   ]
  }
 ],
 "metadata": {
  "kernelspec": {
   "display_name": "Python 3",
   "language": "python",
   "name": "python3"
  },
  "language_info": {
   "codemirror_mode": {
    "name": "ipython",
    "version": 3
   },
   "file_extension": ".py",
   "mimetype": "text/x-python",
   "name": "python",
   "nbconvert_exporter": "python",
   "pygments_lexer": "ipython3",
   "version": "3.13.2"
  }
 },
 "nbformat": 4,
 "nbformat_minor": 5
}
