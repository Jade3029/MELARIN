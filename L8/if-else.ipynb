{
 "cells": [
  {
   "cell_type": "markdown",
   "id": "debfb128",
   "metadata": {},
   "source": [
    "# if-else statement <hr style=\"border:2.5px solid #B57EDC\"></hr>"
   ]
  },
  {
   "cell_type": "markdown",
   "id": "008ba849",
   "metadata": {},
   "source": [
    "Data Analyst: Jade Solomon D. Melarin <br>\n",
    "Department: Electrical Engineering"
   ]
  },
  {
   "cell_type": "markdown",
   "id": "b875cb57",
   "metadata": {},
   "source": [
    "# if statement"
   ]
  },
  {
   "cell_type": "code",
   "execution_count": 11,
   "id": "a370b43a",
   "metadata": {},
   "outputs": [
    {
     "name": "stdout",
     "output_type": "stream",
     "text": [
      "pasar ko\n"
     ]
    }
   ],
   "source": [
    "# passing grade is 5.0\n",
    "grade= 5.1\n",
    "if grade >= 5.0:\n",
    "    print (\"pasar ko\")"
   ]
  },
  {
   "cell_type": "code",
   "execution_count": null,
   "id": "dff86771",
   "metadata": {},
   "outputs": [],
   "source": [
    "# two if statements are evaluated\n",
    "grade = 4.8\n",
    "#evaluate grafe\n",
    "if grade >= 5.0:\n",
    "    print (\"pasar ko\")\n",
    "    if grade < 5.0:\n",
    "        print (\"FAILED\")"
   ]
  },
  {
   "cell_type": "markdown",
   "id": "bfe66a52",
   "metadata": {},
   "source": [
    "# if-else statement"
   ]
  },
  {
   "cell_type": "code",
   "execution_count": 19,
   "id": "45ab612a",
   "metadata": {},
   "outputs": [
    {
     "name": "stdout",
     "output_type": "stream",
     "text": [
      "FAILED\n"
     ]
    }
   ],
   "source": [
    "# if grade >= 5.0 is True, else will nit be evaluated\n",
    "grade = 4.0\n",
    "#evaluate grade\n",
    "if grade >= 5.0:\n",
    "    print (\"pasar ko\")\n",
    "else:\n",
    "        print (\"FAILED\")"
   ]
  },
  {
   "cell_type": "markdown",
   "id": "61fe2bb6",
   "metadata": {},
   "source": [
    "# if-elif-else statement"
   ]
  },
  {
   "cell_type": "code",
   "execution_count": 21,
   "id": "bc6e4b99",
   "metadata": {},
   "outputs": [
    {
     "name": "stdout",
     "output_type": "stream",
     "text": [
      "FAILED\n"
     ]
    }
   ],
   "source": [
    "# if grade >= 5.0 is True, else will nit be evaluated\n",
    "grade = 2.9\n",
    "#evaluate grade\n",
    "if grade >= 5.0:\n",
    "    print (\"pasar ko\")\n",
    "elif grade < 3.0:\n",
    "        print (\"FAILED\")\n",
    "elif grade < 5.0:\n",
    "      print (\"ouch\")\n",
    "else :\n",
    "      print(\"INVALID\")"
   ]
  },
  {
   "cell_type": "code",
   "execution_count": 22,
   "id": "a73d2c37",
   "metadata": {},
   "outputs": [
    {
     "name": "stdout",
     "output_type": "stream",
     "text": [
      "DISMISSED\n"
     ]
    }
   ],
   "source": [
    "# if grade >= 5.0 is True, else will nit be evaluated\n",
    "grade = 2.9\n",
    "#evaluate grade\n",
    "if grade >= 5.0:\n",
    "    print (\"pasar ko\")\n",
    "elif grade < 3.0:\n",
    "        print (\"DISMISSED\")\n",
    "elif grade < 5.0:\n",
    "      print (\"ouch\")\n",
    "else :\n",
    "      print(\"INVALID\")"
   ]
  }
 ],
 "metadata": {
  "kernelspec": {
   "display_name": "Python 3",
   "language": "python",
   "name": "python3"
  },
  "language_info": {
   "codemirror_mode": {
    "name": "ipython",
    "version": 3
   },
   "file_extension": ".py",
   "mimetype": "text/x-python",
   "name": "python",
   "nbconvert_exporter": "python",
   "pygments_lexer": "ipython3",
   "version": "3.13.2"
  }
 },
 "nbformat": 4,
 "nbformat_minor": 5
}
