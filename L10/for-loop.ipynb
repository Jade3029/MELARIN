{
 "cells": [
  {
   "cell_type": "markdown",
   "id": "5e4c72c3",
   "metadata": {},
   "source": [
    "# For Loop <hr style=\"border:2.5px solid #B57EDC\"></hr>"
   ]
  },
  {
   "cell_type": "markdown",
   "id": "98d26c93",
   "metadata": {},
   "source": [
    "Dta Analyst:Jade Solomon D. Melarin\n",
    "Department:Electrical Engineering"
   ]
  },
  {
   "cell_type": "markdown",
   "id": "1de9b6c5",
   "metadata": {},
   "source": [
    "# Iterating over a list"
   ]
  },
  {
   "cell_type": "code",
   "execution_count": 2,
   "id": "62d69620",
   "metadata": {},
   "outputs": [
    {
     "name": "stdout",
     "output_type": "stream",
     "text": [
      "appple\n",
      "orange\n",
      "grapes\n",
      "5\n"
     ]
    }
   ],
   "source": [
    "# at index 0, i = 'apple'\n",
    "fruits = ['appple','orange','grapes', 5]\n",
    "for i in fruits:\n",
    "    print (i)\n"
   ]
  },
  {
   "cell_type": "code",
   "execution_count": 3,
   "id": "e919ee89",
   "metadata": {},
   "outputs": [
    {
     "name": "stdout",
     "output_type": "stream",
     "text": [
      "1\n",
      "2\n",
      "3\n",
      "4\n",
      "5\n",
      "6\n",
      "7\n",
      "8\n",
      "9\n",
      "10\n"
     ]
    }
   ],
   "source": [
    "numbers = [1,2,3,4,5,6,7,8,9,10]\n",
    "for n in numbers:\n",
    "    print (n)"
   ]
  },
  {
   "cell_type": "code",
   "execution_count": 9,
   "id": "cc54f220",
   "metadata": {},
   "outputs": [
    {
     "name": "stdout",
     "output_type": "stream",
     "text": [
      "1\n",
      "3\n",
      "5\n",
      "7\n",
      "9\n"
     ]
    }
   ],
   "source": [
    "for j in range (1,10,2):\n",
    "    print(j)"
   ]
  },
  {
   "cell_type": "markdown",
   "id": "08978c7c",
   "metadata": {},
   "source": [
    "# iterating over a dictionary"
   ]
  },
  {
   "cell_type": "code",
   "execution_count": 12,
   "id": "b21948a6",
   "metadata": {},
   "outputs": [
    {
     "name": "stdout",
     "output_type": "stream",
     "text": [
      "A\n",
      "l\n",
      "p\n",
      "h\n",
      "a\n",
      "b\n",
      "e\n",
      "t\n"
     ]
    }
   ],
   "source": [
    "for char in \"Alphabet\":\n",
    "    print (char)"
   ]
  },
  {
   "cell_type": "code",
   "execution_count": 19,
   "id": "2eb665fa",
   "metadata": {},
   "outputs": [
    {
     "name": "stdout",
     "output_type": "stream",
     "text": [
      "name\n",
      "position\n",
      "salary\n",
      "Jade\n",
      "konduktor\n",
      "1000000000\n"
     ]
    }
   ],
   "source": [
    "employee = {\n",
    "    'name': 'Jade',\n",
    "    'position': 'konduktor',\n",
    "    'salary': 1000000000\n",
    "}\n",
    "for key in employee:\n",
    "    print(key)\n",
    "\n",
    "for value in employee.values():\n",
    "    print(value)"
   ]
  }
 ],
 "metadata": {
  "kernelspec": {
   "display_name": "Python 3",
   "language": "python",
   "name": "python3"
  },
  "language_info": {
   "codemirror_mode": {
    "name": "ipython",
    "version": 3
   },
   "file_extension": ".py",
   "mimetype": "text/x-python",
   "name": "python",
   "nbconvert_exporter": "python",
   "pygments_lexer": "ipython3",
   "version": "3.13.2"
  }
 },
 "nbformat": 4,
 "nbformat_minor": 5
}
